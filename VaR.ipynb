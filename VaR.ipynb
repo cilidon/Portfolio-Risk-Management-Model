{
  "nbformat": 4,
  "nbformat_minor": 0,
  "metadata": {
    "colab": {
      "provenance": []
    },
    "kernelspec": {
      "name": "python3",
      "display_name": "Python 3"
    },
    "language_info": {
      "name": "python"
    }
  },
  "cells": [
    {
      "cell_type": "code",
      "source": [
        "import pandas as pd\n",
        "import numpy as np\n",
        "import os\n",
        "import plotly.graph_objects as go\n",
        "from plotly.subplots import make_subplots\n",
        "import matplotlib.pyplot as plt\n",
        "from scipy.stats import norm"
      ],
      "metadata": {
        "id": "XNPxmvwB91hE"
      },
      "execution_count": 17,
      "outputs": []
    },
    {
      "cell_type": "code",
      "execution_count": 18,
      "metadata": {
        "colab": {
          "base_uri": "https://localhost:8080/"
        },
        "id": "ttci_yd5soLK",
        "outputId": "87a7a255-f77a-4805-d428-282de6036097"
      },
      "outputs": [
        {
          "output_type": "stream",
          "name": "stdout",
          "text": [
            "              AAPL         MSFT          JNJ          AGG          GLD  \\\n",
            "count  1255.000000  1255.000000  1255.000000  1255.000000  1255.000000   \n",
            "mean      0.000565     0.001024     0.000211    -0.000094     0.000514   \n",
            "std       0.028950     0.019159     0.012399     0.004290     0.009652   \n",
            "min      -0.741522    -0.147390    -0.072984    -0.040010    -0.053694   \n",
            "25%      -0.008428    -0.008100    -0.005701    -0.002106    -0.004520   \n",
            "50%       0.001124     0.000958     0.000169     0.000085     0.000576   \n",
            "75%       0.012148     0.010908     0.005944     0.002005     0.005854   \n",
            "max       0.119808     0.142169     0.079977     0.023721     0.048530   \n",
            "\n",
            "               DBC  \n",
            "count  1255.000000  \n",
            "mean      0.000375  \n",
            "std       0.012645  \n",
            "min      -0.079444  \n",
            "25%      -0.006438  \n",
            "50%       0.001433  \n",
            "75%       0.007977  \n",
            "max       0.047990  \n",
            "\n",
            "Correlation Matrix:\n",
            "          AAPL      MSFT       JNJ       AGG       GLD       DBC\n",
            "AAPL  1.000000  0.534067  0.263013  0.089913  0.083134  0.150442\n",
            "MSFT  0.534067  1.000000  0.385455  0.151221  0.122828  0.219025\n",
            "JNJ   0.263013  0.385455  1.000000  0.036372  0.069122  0.109523\n",
            "AGG   0.089913  0.151221  0.036372  1.000000  0.359092  0.035327\n",
            "GLD   0.083134  0.122828  0.069122  0.359092  1.000000  0.303766\n",
            "DBC   0.150442  0.219025  0.109523  0.035327  0.303766  1.000000\n"
          ]
        }
      ],
      "source": [
        "# Set the directory where your CSV files are stored\n",
        "data_dir = '/content/'\n",
        "\n",
        "# List of asset tickers\n",
        "assets = ['AAPL', 'MSFT', 'JNJ', 'AGG', 'GLD', 'DBC']\n",
        "\n",
        "# Function to load and process data\n",
        "def load_and_process_data(ticker):\n",
        "    df = pd.read_csv(os.path.join(data_dir, f'{ticker}.csv'))\n",
        "    df['date'] = pd.to_datetime(df['date'])\n",
        "    df = df.set_index('date')\n",
        "    df['returns'] = df['close'].pct_change()\n",
        "    return df[['open', 'high', 'low', 'close', 'volume', 'returns']]\n",
        "\n",
        "# Load data for all assets\n",
        "data = {ticker: load_and_process_data(ticker) for ticker in assets}\n",
        "\n",
        "# Combine returns into a single DataFrame\n",
        "returns = pd.DataFrame({ticker: data[ticker]['returns'] for ticker in assets})\n",
        "\n",
        "# Remove any rows with NaN values\n",
        "returns = returns.dropna()\n",
        "\n",
        "# Calculate correlation matrix\n",
        "correlation_matrix = returns.corr()\n",
        "\n",
        "# Print summary statistics\n",
        "print(returns.describe())\n",
        "print(\"\\nCorrelation Matrix:\")\n",
        "print(correlation_matrix)\n",
        "\n",
        "# Save processed data\n",
        "returns.to_csv('portfolio_returns.csv')\n",
        "correlation_matrix.to_csv('correlation_matrix.csv')"
      ]
    },
    {
      "cell_type": "code",
      "source": [
        "# Portfolio weights\n",
        "weights = np.array([0.20, 0.20, 0.15, 0.25, 0.10, 0.10])\n",
        "\n",
        "# Number of simulations\n",
        "num_simulations = 10000\n",
        "time_horizon = 1  # 1 day\n",
        "\n",
        "# Calculate portfolio mean and covariance\n",
        "portfolio_mean = np.sum(returns.mean() * weights) * time_horizon\n",
        "portfolio_cov = returns.cov() * time_horizon\n",
        "\n",
        "# Perform Monte Carlo simulation\n",
        "np.random.seed(42)\n",
        "simulated_returns = np.random.multivariate_normal(\n",
        "    returns.mean() * time_horizon,\n",
        "    returns.cov() * time_horizon,\n",
        "    num_simulations\n",
        ") @ weights\n",
        "\n",
        "# Calculate portfolio value\n",
        "initial_portfolio_value = 1000000  # $1 million\n",
        "simulated_portfolio_values = initial_portfolio_value * (1 + simulated_returns)\n",
        "\n",
        "# Calculate VaR\n",
        "confidence_level = 0.95\n",
        "var_95 = np.percentile(simulated_portfolio_values, 100 - confidence_level * 100)\n",
        "var_95_percent = (initial_portfolio_value - var_95) / initial_portfolio_value\n",
        "\n",
        "print(f\"95% 1-day VaR: ${initial_portfolio_value - var_95:.2f}\")\n",
        "print(f\"95% 1-day VaR (%): {var_95_percent:.2%}\")\n",
        "\n",
        "# Plot histogram of simulated portfolio values\n",
        "plt.figure(figsize=(10, 6))\n",
        "plt.hist(simulated_portfolio_values, bins=50, edgecolor='black')\n",
        "plt.axvline(var_95, color='r', linestyle='dashed', linewidth=2, label='95% VaR')\n",
        "plt.title('Monte Carlo Simulation: Portfolio Value Distribution')\n",
        "plt.xlabel('Portfolio Value ($)')\n",
        "plt.ylabel('Frequency')\n",
        "plt.legend()\n",
        "plt.show()"
      ],
      "metadata": {
        "colab": {
          "base_uri": "https://localhost:8080/",
          "height": 599
        },
        "id": "EnthPkWxvqbD",
        "outputId": "aa5a95e6-f9d3-4faa-f2c4-065ba68842e7"
      },
      "execution_count": 19,
      "outputs": [
        {
          "output_type": "stream",
          "name": "stdout",
          "text": [
            "95% 1-day VaR: $16300.21\n",
            "95% 1-day VaR (%): 1.63%\n"
          ]
        },
        {
          "output_type": "display_data",
          "data": {
            "text/plain": [
              "<Figure size 1000x600 with 1 Axes>"
            ],
            "image/png": "[encoded data removed]"
          },
          "metadata": {}
        }
      ]
    },
    {
      "cell_type": "markdown",
      "source": [
        "**The Value at Risk (VaR) calculation provides crucial insights into the potential losses of our portfolio:**\n",
        "\n",
        "95% 1-day VaR: $16,300.21\n",
        "\n",
        "This means that with 95% confidence, we don't expect to lose more than $16,300.21 in a single day under normal market conditions.\n",
        "\n",
        "\n",
        "95% 1-day VaR (%): 1.63%\n",
        "\n",
        "This percentage indicates that we're risking about 1.63% of our total portfolio value on any given day, with 95% confidence."
      ],
      "metadata": {
        "id": "-ozhnrfjxTyG"
      }
    },
    {
      "cell_type": "code",
      "source": [],
      "metadata": {
        "id": "E2trn4Q2x1z7"
      },
      "execution_count": null,
      "outputs": []
    },
    {
      "cell_type": "code",
      "source": [
        "# Load your returns data\n",
        "returns = pd.read_csv('portfolio_returns.csv', index_col='date')\n",
        "returns.index = pd.to_datetime(returns.index)  # Ensure the index is in datetime format\n",
        "\n",
        "# Portfolio weights\n",
        "weights = np.array([0.20, 0.20, 0.15, 0.25, 0.10, 0.10])\n",
        "\n",
        "# Function to calculate portfolio return\n",
        "def portfolio_return(returns, weights):\n",
        "    return np.sum(returns * weights)\n",
        "\n",
        "# Stress test scenarios\n",
        "scenarios = {\n",
        "    \"COVID-19 Crash\": returns['2020-02-20':'2020-03-23'].mean(),\n",
        "    \"2022 Market Downturn\": returns['2022-01-01':'2022-06-30'].mean(),\n",
        "    \"Recent Rate Hike Period\": returns['2023-03-01':'2023-05-31'].mean(),\n",
        "    \"Hypothetical Tech Crash\": pd.Series({\n",
        "        'AAPL': -0.03, 'MSFT': -0.03, 'JNJ': -0.01,\n",
        "        'AGG': 0.005, 'GLD': 0.01, 'DBC': -0.01\n",
        "    }),\n",
        "    \"Hypothetical Commodity Boom\": pd.Series({\n",
        "        'AAPL': -0.01, 'MSFT': -0.01, 'JNJ': 0,\n",
        "        'AGG': -0.005, 'GLD': 0.03, 'DBC': 0.05\n",
        "    })\n",
        "}\n",
        "\n",
        "# Perform stress tests\n",
        "results = {}\n",
        "for scenario, shock in scenarios.items():\n",
        "    portfolio_impact = portfolio_return(shock, weights)\n",
        "    results[scenario] = portfolio_impact\n",
        "\n",
        "# Print results\n",
        "print(\"Stress Test Results (Expected Daily Returns):\")\n",
        "for scenario, impact in results.items():\n",
        "    print(f\"{scenario}: {impact:.2%}\")\n",
        "\n",
        "# Calculate potential portfolio value after each scenario\n",
        "initial_value = 1000000  # $1 million\n",
        "print(\"\\nPotential Portfolio Values After Stress Events:\")\n",
        "for scenario, impact in results.items():\n",
        "    stressed_value = initial_value * (1 + impact)\n",
        "    print(f\"{scenario}: ${stressed_value:,.2f}\")"
      ],
      "metadata": {
        "colab": {
          "base_uri": "https://localhost:8080/"
        },
        "id": "-enMwd9dx3Ct",
        "outputId": "64b2efe3-985f-418e-94fe-104ac975ae57"
      },
      "execution_count": 20,
      "outputs": [
        {
          "output_type": "stream",
          "name": "stdout",
          "text": [
            "Stress Test Results (Expected Daily Returns):\n",
            "COVID-19 Crash: -0.85%\n",
            "2022 Market Downturn: -0.07%\n",
            "Recent Rate Hike Period: 0.16%\n",
            "Hypothetical Tech Crash: -1.23%\n",
            "Hypothetical Commodity Boom: 0.28%\n",
            "\n",
            "Potential Portfolio Values After Stress Events:\n",
            "COVID-19 Crash: $991,506.59\n",
            "2022 Market Downturn: $999,279.05\n",
            "Recent Rate Hike Period: $1,001,576.19\n",
            "Hypothetical Tech Crash: $987,750.00\n",
            "Hypothetical Commodity Boom: $1,002,750.00\n"
          ]
        }
      ]
    },
    {
      "cell_type": "markdown",
      "source": [
        "**Stress Test Analysis**\n",
        "\n",
        "**COVID-19 Crash:**\n",
        "\n",
        "Daily return: -0.85%\n",
        "\n",
        "Portfolio value: $991,506.59\n",
        "\n",
        "This scenario shows the most significant historical loss, reflecting the severe market downturn during the initial COVID-19 outbreak.\n",
        "\n",
        "\n",
        "**2022 Market Downturn:**\n",
        "\n",
        "Daily return: -0.07%\n",
        "\n",
        "Portfolio value: $999,279.05\n",
        "\n",
        "This represents a milder downturn, likely due to the diversification of our portfolio helping to mitigate losses.\n",
        "\n",
        "**Recent Rate Hike Period:**\n",
        "\n",
        "Daily return: 0.16%\n",
        "\n",
        "Portfolio value: $1,001,576.19\n",
        "\n",
        "Interestingly, our portfolio showed resilience during this period, possibly due to the inclusion of bonds (AGG) and commodities (GLD, DBC) which can perform well in rising rate environments.\n",
        "\n",
        "**Hypothetical Tech Crash:**\n",
        "\n",
        "Daily return: -1.23%\n",
        "\n",
        "Portfolio value: $987,750.00\n",
        "\n",
        "This scenario shows the largest potential loss, highlighting the portfolio's exposure to tech stocks (AAPL, MSFT).\n",
        "\n",
        "**Hypothetical Commodity Boom:**\n",
        "\n",
        "Daily return: 0.28%\n",
        "\n",
        "Portfolio value: $1,002,750.00\n",
        "\n",
        "The portfolio benefits from its commodity exposure in this scenario, demonstrating the value of diversification.\n",
        "\n",
        "\n"
      ],
      "metadata": {
        "id": "M5lAWgqVzQT5"
      }
    },
    {
      "cell_type": "markdown",
      "source": [
        "**Key Insights**\n",
        "\n",
        "**Diversification Effect:** The portfolio's diversification appears to be effective, as evidenced by the relatively moderate impacts across different scenarios.\n",
        "\n",
        "**Tech Exposure Risk:** The hypothetical tech crash scenario reveals the portfolio's vulnerability to tech sector downturns, suggesting a potential area for risk management focus.\n",
        "\n",
        "**Resilience to Rate Changes:** The positive performance during the recent rate hike period indicates some resilience to interest rate fluctuations.\n",
        "\n",
        "**Historical vs. Hypothetical Scenarios:** The COVID-19 crash remains the most severe historical scenario, while the hypothetical tech crash presents the worst-case scenario among those tested."
      ],
      "metadata": {
        "id": "K6ek8paLz120"
      }
    },
    {
      "cell_type": "code",
      "source": [
        "# Load data (assuming you have this from previous steps)\n",
        "returns = pd.read_csv('portfolio_returns.csv', index_col='date')\n",
        "returns.index = pd.to_datetime(returns.index)\n",
        "\n",
        "# Portfolio weights\n",
        "weights = np.array([0.20, 0.20, 0.15, 0.25, 0.10, 0.10])\n",
        "assets = ['AAPL', 'MSFT', 'JNJ', 'AGG', 'GLD', 'DBC']\n",
        "\n",
        "# VaR results (from previous calculation)\n",
        "var_95 = 16300.21\n",
        "var_95_percent = 0.0163\n",
        "\n",
        "# Stress test results\n",
        "stress_results = {\n",
        "    \"COVID-19 Crash\": -0.0085,\n",
        "    \"2022 Market Downturn\": -0.0007,\n",
        "    \"Recent Rate Hike Period\": 0.0016,\n",
        "    \"Hypothetical Tech Crash\": -0.0123,\n",
        "    \"Hypothetical Commodity Boom\": 0.0028\n",
        "}\n",
        "\n",
        "# Create dashboard\n",
        "fig = make_subplots(\n",
        "    rows=2, cols=2,\n",
        "    specs=[[{\"type\": \"pie\"}, {\"type\": \"bar\"}],\n",
        "           [{\"type\": \"indicator\"}, {\"type\": \"bar\"}]],\n",
        "    subplot_titles=(\"Portfolio Composition\", \"Asset Volatility\", \"Value at Risk\", \"Stress Test Scenarios\")\n",
        ")\n",
        "\n",
        "# Portfolio Composition\n",
        "fig.add_trace(go.Pie(labels=assets, values=weights, name=\"Portfolio Weights\"), row=1, col=1)\n",
        "\n",
        "# Asset Volatility\n",
        "volatility = returns.std() * np.sqrt(252)  # Annualized volatility\n",
        "fig.add_trace(go.Bar(x=assets, y=volatility, name=\"Annualized Volatility\"), row=1, col=2)\n",
        "\n",
        "# Value at Risk\n",
        "fig.add_trace(go.Indicator(\n",
        "    mode = \"number+delta\",\n",
        "    value = 1000000 - var_95,\n",
        "    delta = {\"reference\": 1000000, \"relative\": True},\n",
        "    title = {\"text\": \"95% 1-day VaR\"},\n",
        "    domain = {'row': 1, 'column': 1}\n",
        "), row=2, col=1)\n",
        "\n",
        "# Stress Test Scenarios\n",
        "fig.add_trace(go.Bar(\n",
        "    x=list(stress_results.keys()),\n",
        "    y=list(stress_results.values()),\n",
        "    name=\"Stress Test Impact\"\n",
        "), row=2, col=2)\n",
        "\n",
        "# Update layout\n",
        "fig.update_layout(height=800, title_text=\"Portfolio Risk Dashboard\")\n",
        "fig.show()\n",
        "\n",
        "\n"
      ],
      "metadata": {
        "colab": {
          "base_uri": "https://localhost:8080/",
          "height": 817
        },
        "id": "vtmYTiJl0Eos",
        "outputId": "1514804c-231a-4baa-f572-69c8f8d920c6"
      },
      "execution_count": 21,
      "outputs": [
        {
          "output_type": "display_data",
          "data": {
            "text/html": [
              "<html>\n",
              "<head><meta charset=\"utf-8\" /></head>\n",
              "<body>\n",
              "    <div>            <script src=\"https://cdnjs.cloudflare.com/ajax/libs/mathjax/2.7.5/MathJax.js?config=TeX-AMS-MML_SVG\"></script><script type=\"text/javascript\">if (window.MathJax && window.MathJax.Hub && window.MathJax.Hub.Config) {window.MathJax.Hub.Config({SVG: {font: \"STIX-Web\"}});}</script>                <script type=\"text/javascript\">window.PlotlyConfig = {MathJaxConfig: 'local'};</script>\n",
              "        <script charset=\"utf-8\" src=\"https://cdn.plot.ly/plotly-2.35.2.min.js\"></script>                <div id=\"eca6119e-1dd6-418f-9020-becaecb447fc\" class=\"plotly-graph-div\" style=\"height:800px; width:100%;\"></div>            <script type=\"text/javascript\">                                    window.PLOTLYENV=window.PLOTLYENV || {};                                    if (document.getElementById(\"eca6119e-1dd6-418f-9020-becaecb447fc\")) {                    Plotly.newPlot(                        \"eca6119e-1dd6-418f-9020-becaecb447fc\",                        [{\"labels\":[\"AAPL\",\"MSFT\",\"JNJ\",\"AGG\",\"GLD\",\"DBC\"],\"name\":\"Portfolio Weights\",\"values\":[0.2,0.2,0.15,0.25,0.1,0.1],\"type\":\"pie\",\"domain\":{\"x\":[0.0,0.45],\"y\":[0.625,1.0]}},{\"name\":\"Annualized Volatility\",\"x\":[\"AAPL\",\"MSFT\",\"JNJ\",\"AGG\",\"GLD\",\"DBC\"],\"y\":[0.4595638996181053,0.3041417054901501,0.19682315198641198,0.06810814409414255,0.1532212571830886,0.20072615146192413],\"type\":\"bar\",\"xaxis\":\"x\",\"yaxis\":\"y\"},{\"delta\":{\"reference\":1000000,\"relative\":true},\"domain\":{\"column\":1,\"row\":1,\"x\":[0.0,0.45],\"y\":[0.0,0.375]},\"mode\":\"number+delta\",\"title\":{\"text\":\"95% 1-day VaR\"},\"value\":983699.79,\"type\":\"indicator\"},{\"name\":\"Stress Test Impact\",\"x\":[\"COVID-19 Crash\",\"2022 Market Downturn\",\"Recent Rate Hike Period\",\"Hypothetical Tech Crash\",\"Hypothetical Commodity Boom\"],\"y\":[-0.0085,-0.0007,0.0016,-0.0123,0.0028],\"type\":\"bar\",\"xaxis\":\"x2\",\"yaxis\":\"y2\"}],                        {\"template\":{\"data\":{\"histogram2dcontour\":[{\"type\":\"histogram2dcontour\",\"colorbar\":{\"outlinewidth\":0,\"ticks\":\"\"},\"colorscale\":[[0.0,\"#0d0887\"],[0.1111111111111111,\"#46039f\"],[0.2222222222222222,\"#7201a8\"],[0.3333333333333333,\"#9c179e\"],[0.4444444444444444,\"#bd3786\"],[0.5555555555555556,\"#d8576b\"],[0.6666666666666666,\"#ed7953\"],[0.7777777777777778,\"#fb9f3a\"],[0.8888888888888888,\"#fdca26\"],[1.0,\"#f0f921\"]]}],\"choropleth\":[{\"type\":\"choropleth\",\"colorbar\":{\"outlinewidth\":0,\"ticks\":\"\"}}],\"histogram2d\":[{\"type\":\"histogram2d\",\"colorbar\":{\"outlinewidth\":0,\"ticks\":\"\"},\"colorscale\":[[0.0,\"#0d0887\"],[0.1111111111111111,\"#46039f\"],[0.2222222222222222,\"#7201a8\"],[0.3333333333333333,\"#9c179e\"],[0.4444444444444444,\"#bd3786\"],[0.5555555555555556,\"#d8576b\"],[0.6666666666666666,\"#ed7953\"],[0.7777777777777778,\"#fb9f3a\"],[0.8888888888888888,\"#fdca26\"],[1.0,\"#f0f921\"]]}],\"heatmap\":[{\"type\":\"heatmap\",\"colorbar\":{\"outlinewidth\":0,\"ticks\":\"\"},\"colorscale\":[[0.0,\"#0d0887\"],[0.1111111111111111,\"#46039f\"],[0.2222222222222222,\"#7201a8\"],[0.3333333333333333,\"#9c179e\"],[0.4444444444444444,\"#bd3786\"],[0.5555555555555556,\"#d8576b\"],[0.6666666666666666,\"#ed7953\"],[0.7777777777777778,\"#fb9f3a\"],[0.8888888888888888,\"#fdca26\"],[1.0,\"#f0f921\"]]}],\"heatmapgl\":[{\"type\":\"heatmapgl\",\"colorbar\":{\"outlinewidth\":0,\"ticks\":\"\"},\"colorscale\":[[0.0,\"#0d0887\"],[0.1111111111111111,\"#46039f\"],[0.2222222222222222,\"#7201a8\"],[0.3333333333333333,\"#9c179e\"],[0.4444444444444444,\"#bd3786\"],[0.5555555555555556,\"#d8576b\"],[0.6666666666666666,\"#ed7953\"],[0.7777777777777778,\"#fb9f3a\"],[0.8888888888888888,\"#fdca26\"],[1.0,\"#f0f921\"]]}],\"contourcarpet\":[{\"type\":\"contourcarpet\",\"colorbar\":{\"outlinewidth\":0,\"ticks\":\"\"}}],\"contour\":[{\"type\":\"contour\",\"colorbar\":{\"outlinewidth\":0,\"ticks\":\"\"},\"colorscale\":[[0.0,\"#0d0887\"],[0.1111111111111111,\"#46039f\"],[0.2222222222222222,\"#7201a8\"],[0.3333333333333333,\"#9c179e\"],[0.4444444444444444,\"#bd3786\"],[0.5555555555555556,\"#d8576b\"],[0.6666666666666666,\"#ed7953\"],[0.7777777777777778,\"#fb9f3a\"],[0.8888888888888888,\"#fdca26\"],[1.0,\"#f0f921\"]]}],\"surface\":[{\"type\":\"surface\",\"colorbar\":{\"outlinewidth\":0,\"ticks\":\"\"},\"colorscale\":[[0.0,\"#0d0887\"],[0.1111111111111111,\"#46039f\"],[0.2222222222222222,\"#7201a8\"],[0.3333333333333333,\"#9c179e\"],[0.4444444444444444,\"#bd3786\"],[0.5555555555555556,\"#d8576b\"],[0.6666666666666666,\"#ed7953\"],[0.7777777777777778,\"#fb9f3a\"],[0.8888888888888888,\"#fdca26\"],[1.0,\"#f0f921\"]]}],\"mesh3d\":[{\"type\":\"mesh3d\",\"colorbar\":{\"outlinewidth\":0,\"ticks\":\"\"}}],\"scatter\":[{\"fillpattern\":{\"fillmode\":\"overlay\",\"size\":10,\"solidity\":0.2},\"type\":\"scatter\"}],\"parcoords\":[{\"type\":\"parcoords\",\"line\":{\"colorbar\":{\"outlinewidth\":0,\"ticks\":\"\"}}}],\"scatterpolargl\":[{\"type\":\"scatterpolargl\",\"marker\":{\"colorbar\":{\"outlinewidth\":0,\"ticks\":\"\"}}}],\"bar\":[{\"error_x\":{\"color\":\"#2a3f5f\"},\"error_y\":{\"color\":\"#2a3f5f\"},\"marker\":{\"line\":{\"color\":\"#E5ECF6\",\"width\":0.5},\"pattern\":{\"fillmode\":\"overlay\",\"size\":10,\"solidity\":0.2}},\"type\":\"bar\"}],\"scattergeo\":[{\"type\":\"scattergeo\",\"marker\":{\"colorbar\":{\"outlinewidth\":0,\"ticks\":\"\"}}}],\"scatterpolar\":[{\"type\":\"scatterpolar\",\"marker\":{\"colorbar\":{\"outlinewidth\":0,\"ticks\":\"\"}}}],\"histogram\":[{\"marker\":{\"pattern\":{\"fillmode\":\"overlay\",\"size\":10,\"solidity\":0.2}},\"type\":\"histogram\"}],\"scattergl\":[{\"type\":\"scattergl\",\"marker\":{\"colorbar\":{\"outlinewidth\":0,\"ticks\":\"\"}}}],\"scatter3d\":[{\"type\":\"scatter3d\",\"line\":{\"colorbar\":{\"outlinewidth\":0,\"ticks\":\"\"}},\"marker\":{\"colorbar\":{\"outlinewidth\":0,\"ticks\":\"\"}}}],\"scattermapbox\":[{\"type\":\"scattermapbox\",\"marker\":{\"colorbar\":{\"outlinewidth\":0,\"ticks\":\"\"}}}],\"scatterternary\":[{\"type\":\"scatterternary\",\"marker\":{\"colorbar\":{\"outlinewidth\":0,\"ticks\":\"\"}}}],\"scattercarpet\":[{\"type\":\"scattercarpet\",\"marker\":{\"colorbar\":{\"outlinewidth\":0,\"ticks\":\"\"}}}],\"carpet\":[{\"aaxis\":{\"endlinecolor\":\"#2a3f5f\",\"gridcolor\":\"white\",\"linecolor\":\"white\",\"minorgridcolor\":\"white\",\"startlinecolor\":\"#2a3f5f\"},\"baxis\":{\"endlinecolor\":\"#2a3f5f\",\"gridcolor\":\"white\",\"linecolor\":\"white\",\"minorgridcolor\":\"white\",\"startlinecolor\":\"#2a3f5f\"},\"type\":\"carpet\"}],\"table\":[{\"cells\":{\"fill\":{\"color\":\"#EBF0F8\"},\"line\":{\"color\":\"white\"}},\"header\":{\"fill\":{\"color\":\"#C8D4E3\"},\"line\":{\"color\":\"white\"}},\"type\":\"table\"}],\"barpolar\":[{\"marker\":{\"line\":{\"color\":\"#E5ECF6\",\"width\":0.5},\"pattern\":{\"fillmode\":\"overlay\",\"size\":10,\"solidity\":0.2}},\"type\":\"barpolar\"}],\"pie\":[{\"automargin\":true,\"type\":\"pie\"}]},\"layout\":{\"autotypenumbers\":\"strict\",\"colorway\":[\"#636efa\",\"#EF553B\",\"#00cc96\",\"#ab63fa\",\"#FFA15A\",\"#19d3f3\",\"#FF6692\",\"#B6E880\",\"#FF97FF\",\"#FECB52\"],\"font\":{\"color\":\"#2a3f5f\"},\"hovermode\":\"closest\",\"hoverlabel\":{\"align\":\"left\"},\"paper_bgcolor\":\"white\",\"plot_bgcolor\":\"#E5ECF6\",\"polar\":{\"bgcolor\":\"#E5ECF6\",\"angularaxis\":{\"gridcolor\":\"white\",\"linecolor\":\"white\",\"ticks\":\"\"},\"radialaxis\":{\"gridcolor\":\"white\",\"linecolor\":\"white\",\"ticks\":\"\"}},\"ternary\":{\"bgcolor\":\"#E5ECF6\",\"aaxis\":{\"gridcolor\":\"white\",\"linecolor\":\"white\",\"ticks\":\"\"},\"baxis\":{\"gridcolor\":\"white\",\"linecolor\":\"white\",\"ticks\":\"\"},\"caxis\":{\"gridcolor\":\"white\",\"linecolor\":\"white\",\"ticks\":\"\"}},\"coloraxis\":{\"colorbar\":{\"outlinewidth\":0,\"ticks\":\"\"}},\"colorscale\":{\"sequential\":[[0.0,\"#0d0887\"],[0.1111111111111111,\"#46039f\"],[0.2222222222222222,\"#7201a8\"],[0.3333333333333333,\"#9c179e\"],[0.4444444444444444,\"#bd3786\"],[0.5555555555555556,\"#d8576b\"],[0.6666666666666666,\"#ed7953\"],[0.7777777777777778,\"#fb9f3a\"],[0.8888888888888888,\"#fdca26\"],[1.0,\"#f0f921\"]],\"sequentialminus\":[[0.0,\"#0d0887\"],[0.1111111111111111,\"#46039f\"],[0.2222222222222222,\"#7201a8\"],[0.3333333333333333,\"#9c179e\"],[0.4444444444444444,\"#bd3786\"],[0.5555555555555556,\"#d8576b\"],[0.6666666666666666,\"#ed7953\"],[0.7777777777777778,\"#fb9f3a\"],[0.8888888888888888,\"#fdca26\"],[1.0,\"#f0f921\"]],\"diverging\":[[0,\"#8e0152\"],[0.1,\"#c51b7d\"],[0.2,\"#de77ae\"],[0.3,\"#f1b6da\"],[0.4,\"#fde0ef\"],[0.5,\"#f7f7f7\"],[0.6,\"#e6f5d0\"],[0.7,\"#b8e186\"],[0.8,\"#7fbc41\"],[0.9,\"#4d9221\"],[1,\"#276419\"]]},\"xaxis\":{\"gridcolor\":\"white\",\"linecolor\":\"white\",\"ticks\":\"\",\"title\":{\"standoff\":15},\"zerolinecolor\":\"white\",\"automargin\":true,\"zerolinewidth\":2},\"yaxis\":{\"gridcolor\":\"white\",\"linecolor\":\"white\",\"ticks\":\"\",\"title\":{\"standoff\":15},\"zerolinecolor\":\"white\",\"automargin\":true,\"zerolinewidth\":2},\"scene\":{\"xaxis\":{\"backgroundcolor\":\"#E5ECF6\",\"gridcolor\":\"white\",\"linecolor\":\"white\",\"showbackground\":true,\"ticks\":\"\",\"zerolinecolor\":\"white\",\"gridwidth\":2},\"yaxis\":{\"backgroundcolor\":\"#E5ECF6\",\"gridcolor\":\"white\",\"linecolor\":\"white\",\"showbackground\":true,\"ticks\":\"\",\"zerolinecolor\":\"white\",\"gridwidth\":2},\"zaxis\":{\"backgroundcolor\":\"#E5ECF6\",\"gridcolor\":\"white\",\"linecolor\":\"white\",\"showbackground\":true,\"ticks\":\"\",\"zerolinecolor\":\"white\",\"gridwidth\":2}},\"shapedefaults\":{\"line\":{\"color\":\"#2a3f5f\"}},\"annotationdefaults\":{\"arrowcolor\":\"#2a3f5f\",\"arrowhead\":0,\"arrowwidth\":1},\"geo\":{\"bgcolor\":\"white\",\"landcolor\":\"#E5ECF6\",\"subunitcolor\":\"white\",\"showland\":true,\"showlakes\":true,\"lakecolor\":\"white\"},\"title\":{\"x\":0.05},\"mapbox\":{\"style\":\"light\"}}},\"xaxis\":{\"anchor\":\"y\",\"domain\":[0.55,1.0]},\"yaxis\":{\"anchor\":\"x\",\"domain\":[0.625,1.0]},\"xaxis2\":{\"anchor\":\"y2\",\"domain\":[0.55,1.0]},\"yaxis2\":{\"anchor\":\"x2\",\"domain\":[0.0,0.375]},\"annotations\":[{\"font\":{\"size\":16},\"showarrow\":false,\"text\":\"Portfolio Composition\",\"x\":0.225,\"xanchor\":\"center\",\"xref\":\"paper\",\"y\":1.0,\"yanchor\":\"bottom\",\"yref\":\"paper\"},{\"font\":{\"size\":16},\"showarrow\":false,\"text\":\"Asset Volatility\",\"x\":0.775,\"xanchor\":\"center\",\"xref\":\"paper\",\"y\":1.0,\"yanchor\":\"bottom\",\"yref\":\"paper\"},{\"font\":{\"size\":16},\"showarrow\":false,\"text\":\"Value at Risk\",\"x\":0.225,\"xanchor\":\"center\",\"xref\":\"paper\",\"y\":0.375,\"yanchor\":\"bottom\",\"yref\":\"paper\"},{\"font\":{\"size\":16},\"showarrow\":false,\"text\":\"Stress Test Scenarios\",\"x\":0.775,\"xanchor\":\"center\",\"xref\":\"paper\",\"y\":0.375,\"yanchor\":\"bottom\",\"yref\":\"paper\"}],\"title\":{\"text\":\"Portfolio Risk Dashboard\"},\"height\":800},                        {\"responsive\": true}                    ).then(function(){\n",
              "                            \n",
              "var gd = document.getElementById('eca6119e-1dd6-418f-9020-becaecb447fc');\n",
              "var x = new MutationObserver(function (mutations, observer) {{\n",
              "        var display = window.getComputedStyle(gd).display;\n",
              "        if (!display || display === 'none') {{\n",
              "            console.log([gd, 'removed!']);\n",
              "            Plotly.purge(gd);\n",
              "            observer.disconnect();\n",
              "        }}\n",
              "}});\n",
              "\n",
              "// Listen for the removal of the full notebook cells\n",
              "var notebookContainer = gd.closest('#notebook-container');\n",
              "if (notebookContainer) {{\n",
              "    x.observe(notebookContainer, {childList: true});\n",
              "}}\n",
              "\n",
              "// Listen for the clearing of the current output cell\n",
              "var outputEl = gd.closest('.output');\n",
              "if (outputEl) {{\n",
              "    x.observe(outputEl, {childList: true});\n",
              "}}\n",
              "\n",
              "                        })                };                            </script>        </div>\n",
              "</body>\n",
              "</html>"
            ]
          },
          "metadata": {}
        }
      ]
    },
    {
      "cell_type": "markdown",
      "source": [
        "**Insights and Recommendations**\n",
        "\n",
        "\n",
        "**Tech Exposure:** The high allocation to tech stocks (AAPL and MSFT) contributes significantly to portfolio volatility and downside risk. Consider whether this aligns with the investor's risk tolerance.\n",
        "\n",
        "**Diversification Benefits:** The inclusion of bonds (AGG) and commodities (GLD, DBC) provides some protection against market downturns, as seen in the stress test scenarios.\n",
        "\n",
        "**Downside Protection:** The 95% 1-day VaR of $16,300 (1.63%) suggests moderate risk. However, the stress tests reveal potential for larger losses in extreme scenarios.\n",
        "\n",
        "**Scenario Planning:** The stress test results highlight the need to prepare for tech-sector downturns and global crises like the COVID-19 pandemic.\n",
        "\n",
        "**Upside Potential:** The portfolio shows resilience and even gains in some scenarios, such as commodity booms and recent rate hike periods.\n",
        "\n"
      ],
      "metadata": {
        "id": "Cf7Cu4sg1n6K"
      }
    },
    {
      "cell_type": "markdown",
      "source": [
        "**Recommendations for Improvement**\n",
        "\n",
        "* Consider slightly reducing exposure to tech stocks to mitigate downside risk in tech crash scenarios.\n",
        "* Explore adding more defensive stocks or increasing allocation to JNJ to balance tech exposure.\n",
        "* Regularly update stress test scenarios to reflect current market conditions and potential future events.\n",
        "* Implement a more granular VaR analysis, perhaps including expected shortfall (ES) to better understand tail risks.\n",
        "* Create a dynamic dashboard that updates with new market data to monitor risk in real-time.\n",
        "\n"
      ],
      "metadata": {
        "id": "mFi0J7mb17cT"
      }
    }
  ]
}